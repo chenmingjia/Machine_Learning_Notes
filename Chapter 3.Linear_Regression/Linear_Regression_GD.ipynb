{
 "cells": [
  {
   "cell_type": "markdown",
   "metadata": {},
   "source": [
    "## 梯度下降法"
   ]
  },
  {
   "cell_type": "markdown",
   "metadata": {},
   "source": [
    "$$ h_θ(x) = θ_0 + θ_1x $$\n",
    "\n",
    "\n",
    "$$θ_0 := θ_0 - \\alpha*\\frac{1}{m}\\sum_{i=1}^m(h_θ(x^i)-y^i) $$\n",
    "\n",
    "$$θ_0 := θ_0 - \\alpha*\\frac{1}{m}\\sum_{i=1}^m(h_θ(x^i)-y^i)x^i $$\n",
    "\n",
    "![avatar](./images/gd.png)"
   ]
  },
  {
   "cell_type": "code",
   "execution_count": null,
   "metadata": {},
   "outputs": [],
   "source": [
    "import matplotlib.pyplot as plot\n",
    "import numpy as np\n",
    "\n",
    "data = np.array([[1,2],[2,1],[3,2.5],[4,3],\n",
    "              [5,4],[6,5],[7,2.7],[8,4.5],\n",
    "              [9,2]])"
   ]
  },
  {
   "cell_type": "code",
   "execution_count": null,
   "metadata": {},
   "outputs": [],
   "source": [
    "x = data[:,0:1]\n",
    "y = data[:,1:]"
   ]
  },
  {
   "cell_type": "code",
   "execution_count": null,
   "metadata": {},
   "outputs": [],
   "source": [
    "n = len(x[0])\n",
    "m = len(data)\n",
    "theta = np.zeros(n)\n",
    "loop_max=1000\n",
    "alpha = 0.005\n",
    "lamba=0.005\n",
    "intercept = 0.\n",
    "print(theta)\n"
   ]
  },
  {
   "cell_type": "code",
   "execution_count": null,
   "metadata": {},
   "outputs": [],
   "source": [
    "print(theta)\n",
    "\n",
    "def hypothetic(x):\n",
    "    global theta\n",
    "    global intercept\n",
    "    return np.dot(theta, x) + intercept\n",
    "\n",
    "def error_dist(x, y):\n",
    "    return hypothetic(x) - y\n",
    "\n",
    "def Jfunction():        \n",
    "    sum = 0\n",
    "    for i in range(0, m):\n",
    "        err = error_dist(x[i],y[i])\n",
    "        sum += np.dot(err, err)\n",
    "    return 1/(2 * m) * sum\n",
    "\n",
    "def partialderiv_J_func():\n",
    "    sum = 0\n",
    "\n",
    "    for i in range(0, m):\n",
    "        err = error_dist(x[i], y[i])\n",
    "        sum += np.dot(x[i], err)\n",
    "        print('w_sum', err)\n",
    "    print('w_sum', 1/m * sum)\n",
    "    return 1/m * sum\n",
    "\n",
    "def partialderiv_J_func_for_intersect():\n",
    "    sum = 0\n",
    "    print('sum',theta)\n",
    "    for i in range(0, m):\n",
    "        err = error_dist(x[i], y[i])\n",
    "        sum += err\n",
    "    return 1/m * sum\n",
    "\n",
    "def gradient_descent():\n",
    "    cost = 100000.0\n",
    "    threshold = 0.01\n",
    "    alpha = 0.3\n",
    "    global theta\n",
    "    global intercept\n",
    "    while threshold < cost:\n",
    "        print('start')\n",
    "        theta = theta - alpha * partialderiv_J_func()\n",
    "        b = partialderiv_J_func_for_intersect()\n",
    "        intercept = intercept - alpha * b\n",
    "        cost = Jfunction()\n",
    "\n",
    "gradient_descent()"
   ]
  },
  {
   "cell_type": "code",
   "execution_count": null,
   "metadata": {},
   "outputs": [],
   "source": [
    "plot.scatter(x, y)\n",
    "plot.plot(x, theta*np.array(x)+intercept, 'g-')\n",
    "plot.show()"
   ]
  },
  {
   "cell_type": "code",
   "execution_count": null,
   "metadata": {},
   "outputs": [],
   "source": [
    "theta * 143 + intercept"
   ]
  },
  {
   "cell_type": "code",
   "execution_count": null,
   "metadata": {},
   "outputs": [],
   "source": [
    "x = np.array([[1,2],[2,1],[3,2.5],[4,3],\n",
    "              [5,4],[6,5],[7,2.7],[8,4.5],\n",
    "              [9,2]])\n",
    " \n",
    "m, n = np.shape(x)\n",
    "x_data = np.ones((m,n))\n",
    "x_data[:,:-1] = x[:,:-1]\n",
    "y_data = x[:,-1]\n",
    " \n",
    "m, n = np.shape(x_data)\n",
    "theta = np.ones(n)\n",
    " \n",
    " \n",
    "def batchGradientDescent(maxiter,x,y,theta,alpha):\n",
    "    xTrains = x.transpose()\n",
    "    for i in range(0,maxiter):\n",
    "        hypothesis = np.dot(x,theta)\n",
    "        loss = (hypothesis-y)\n",
    "        gradient = np.dot(xTrains,loss)/m\n",
    "        print(loss)\n",
    "        theta = theta - alpha * gradient\n",
    "        cost = 1.0/2*m*np.sum(np.square(np.dot(x,np.transpose(theta))-y))\n",
    "    return theta\n",
    " \n",
    "result = batchGradientDescent(10000,x_data,y_data,theta,0.01)\n",
    "newy = np.dot(x_data,result)\n",
    "fig, ax = plot.subplots()\n",
    "ax.plot(x[:,0],newy, 'k--')\n",
    "ax.plot(x[:,0],x[:,1], 'ro')\n",
    "plot.show()\n"
   ]
  },
  {
   "cell_type": "code",
   "execution_count": null,
   "metadata": {},
   "outputs": [],
   "source": []
  },
  {
   "cell_type": "code",
   "execution_count": null,
   "metadata": {},
   "outputs": [],
   "source": []
  },
  {
   "cell_type": "code",
   "execution_count": null,
   "metadata": {},
   "outputs": [],
   "source": []
  },
  {
   "cell_type": "code",
   "execution_count": null,
   "metadata": {},
   "outputs": [],
   "source": []
  }
 ],
 "metadata": {
  "kernelspec": {
   "display_name": "Python 3",
   "language": "python",
   "name": "python3"
  },
  "language_info": {
   "codemirror_mode": {
    "name": "ipython",
    "version": 3
   },
   "file_extension": ".py",
   "mimetype": "text/x-python",
   "name": "python",
   "nbconvert_exporter": "python",
   "pygments_lexer": "ipython3",
   "version": "3.6.8"
  },
  "latex_envs": {
   "LaTeX_envs_menu_present": true,
   "autoclose": false,
   "autocomplete": true,
   "bibliofile": "biblio.bib",
   "cite_by": "apalike",
   "current_citInitial": 1,
   "eqLabelWithNumbers": true,
   "eqNumInitial": 1,
   "hotkeys": {
    "equation": "Ctrl-E",
    "itemize": "Ctrl-I"
   },
   "labels_anchors": false,
   "latex_user_defs": false,
   "report_style_numbering": false,
   "user_envs_cfg": false
  }
 },
 "nbformat": 4,
 "nbformat_minor": 2
}
