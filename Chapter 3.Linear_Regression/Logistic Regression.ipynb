{
 "cells": [
  {
   "cell_type": "code",
   "execution_count": 1,
   "metadata": {},
   "outputs": [],
   "source": [
    "import numpy as np\n",
    "import matplotlib.pyplot as plt\n",
    "import random"
   ]
  },
  {
   "cell_type": "code",
   "execution_count": null,
   "metadata": {},
   "outputs": [],
   "source": [
    "def loadDataSet():\n",
    "    dataMat = []; labelMat = []\n",
    "    fr = open('testSet.txt')\n",
    "    for line in fr.readlines():\n",
    "        lineArr = line.strip().split()\n",
    "        dataMat.append([1.0, float(lineArr[0]), float(lineArr[1])])\n",
    "        labelMat.append(int(lineArr[2]))\n",
    "    return dataMat,labelMat"
   ]
  },
  {
   "cell_type": "code",
   "execution_count": 2,
   "metadata": {},
   "outputs": [],
   "source": [
    "def sigmod(X):\n",
    "    return 1.0/(1+np.exp(-X))"
   ]
  },
  {
   "cell_type": "code",
   "execution_count": 3,
   "metadata": {},
   "outputs": [],
   "source": [
    "def gradAscent(X, Y):\n",
    "    n_sample,n=X.shape\n",
    "    W=np.ones((n,1))\n",
    "    alpha=0.001\n",
    "    Iter=50000\n",
    "    #对数似然函数\n",
    "    for i in range(Iter):\n",
    "        #最大似然估计\n",
    "        Loss=Y*(X.dot(W))-np.log(1+np.exp(X.dot(W)))\n",
    "        #计算梯度\n",
    "        grad=(Y*X)-(1/(1+np.exp(X.dot(W))))*np.exp(X.dot(W))*X\n",
    "        grad=grad.mean(0)\n",
    "        grad=grad.reshape([n,1])\n",
    "        # 梯度上升\n",
    "        W=W+alpha*grad\n",
    "    return W"
   ]
  },
  {
   "cell_type": "code",
   "execution_count": null,
   "metadata": {},
   "outputs": [],
   "source": [
    "dataMat, labelMat=loadDataSet()\n",
    "    dataMat=np.array(dataMat)#100*3\n",
    "    labelMat=np.array(labelMat).reshape((dataMat.shape[0],1))\n",
    "    W = gradAscent(dataMat,labelMat)\n",
    "    x1=np.arange(-3.0, 3.0, 0.1)\n",
    "    x2= (-W[0] - W[1]*x1) / W[2]\n",
    "    plt.plot(x1,x2)\n",
    "    for i,x in enumerate(dataMat):\n",
    "        if(labelMat[i,0]==1):\n",
    "            plt.scatter(x[1],x[2],c='red')\n",
    "        else:\n",
    "            plt.scatter(x[1], x[2], c='green')\n",
    "    plt.show()"
   ]
  }
 ],
 "metadata": {
  "kernelspec": {
   "display_name": "Python 3",
   "language": "python",
   "name": "python3"
  },
  "language_info": {
   "codemirror_mode": {
    "name": "ipython",
    "version": 3
   },
   "file_extension": ".py",
   "mimetype": "text/x-python",
   "name": "python",
   "nbconvert_exporter": "python",
   "pygments_lexer": "ipython3",
   "version": "3.6.8"
  },
  "latex_envs": {
   "LaTeX_envs_menu_present": true,
   "autoclose": false,
   "autocomplete": true,
   "bibliofile": "biblio.bib",
   "cite_by": "apalike",
   "current_citInitial": 1,
   "eqLabelWithNumbers": true,
   "eqNumInitial": 1,
   "hotkeys": {
    "equation": "Ctrl-E",
    "itemize": "Ctrl-I"
   },
   "labels_anchors": false,
   "latex_user_defs": false,
   "report_style_numbering": false,
   "user_envs_cfg": false
  }
 },
 "nbformat": 4,
 "nbformat_minor": 2
}
