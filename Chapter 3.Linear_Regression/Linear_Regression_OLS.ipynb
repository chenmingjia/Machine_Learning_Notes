{
 "cells": [
  {
   "cell_type": "code",
   "execution_count": 5,
   "metadata": {},
   "outputs": [],
   "source": [
    "import matplotlib.pyplot as plot\n",
    "import numpy as np\n",
    "\n",
    "data = [[143, 3100], [295, 6500], [295, 6500], [171, 2330],\n",
    "            [232, 5805], [109, 5350], [262, 6050], [422, 7750],\n",
    "            [225, 2925], [126, 2890], [275, 5710], [179, 3490]]"
   ]
  },
  {
   "cell_type": "markdown",
   "metadata": {},
   "source": [
    "## 普通最小二乘法( Ordinary Least Square,OLS)\n",
    "\n",
    "训练的目标是为了最小化\n",
    "$$ min_θ\\frac{1}{2m}\\sum_{i=1}^{m}(h_θ(x^i)-y^i)^2 $$\n"
   ]
  },
  {
   "cell_type": "code",
   "execution_count": 6,
   "metadata": {},
   "outputs": [],
   "source": [
    "def sigma_squa_x(x):\n",
    "    return sum([i**2 for i in x])\n",
    "def sigma_x(x):\n",
    "    return sum(x)\n",
    "def sigma_xy(x,y):\n",
    "    return sum([i*j for i,j in zip(x,y)])\n",
    "def sigma_y(y):\n",
    "    return sum(y)\n",
    "x = [d[0] for d in data]\n",
    "y = [d[1] for d in data]\n",
    "m = len(x)"
   ]
  },
  {
   "cell_type": "markdown",
   "metadata": {},
   "source": [
    "使用最小二乘法的参数估计可以求得：\n",
    "$$ w={\\sum_{i=1}^mx_iy_i - \\overline y \\sum_{i=1}^mx_i \\over \\sum_{i=1}^mx_i^2 - \\overline x \\sum_{i=1}^mx_i} = {\\sum_{i=1}^m(x_i - \\overline x)(y_i - \\overline y) \\over \\sum_{i=1}^m(x_i - \\overline x)^2} $$"
   ]
  },
  {
   "cell_type": "code",
   "execution_count": 7,
   "metadata": {},
   "outputs": [],
   "source": [
    "w = (sigma_xy(x,y) - sigma_x(x)*sigma_y(y)*(1/m)) / (sigma_squa_x(x) - sigma_x(x)**2*(1/m))"
   ]
  },
  {
   "cell_type": "markdown",
   "metadata": {},
   "source": [
    "$$ b = \\overline y - w\\overline x $$"
   ]
  },
  {
   "cell_type": "code",
   "execution_count": 13,
   "metadata": {},
   "outputs": [],
   "source": [
    "b = sigma_y(y)*(1/m) - w * sigma_x(x)*(1/m)"
   ]
  },
  {
   "cell_type": "code",
   "execution_count": 29,
   "metadata": {},
   "outputs": [
    {
     "name": "stdout",
     "output_type": "stream",
     "text": [
      "15.712954244828092 1286.7319245533326\n"
     ]
    },
    {
     "data": {
      "image/png": "[encoded data removed]",
      "text/plain": [
       "<Figure size 432x288 with 1 Axes>"
      ]
     },
     "metadata": {
      "needs_background": "light"
     },
     "output_type": "display_data"
    }
   ],
   "source": [
    "print(w,b)\n",
    "plot.scatter(x, y)\n",
    "plot.plot(x, w*np.array(x)+b, 'g-')\n",
    "plot.show()"
   ]
  },
  {
   "cell_type": "markdown",
   "metadata": {},
   "source": [
    "## 多元线性回归（Gradient Descent）\n",
    "下面是最小二乘法的通式\n",
    "\n",
    "$$ L(w,b)=L(\\hat{w})=(y-X\\hat{w})^T(y-X\\hat{w}) $$\n",
    "\n",
    "$$ \\hat{w}^* = (X^TX)^{-1}X^Ty $$"
   ]
  },
  {
   "cell_type": "code",
   "execution_count": 30,
   "metadata": {},
   "outputs": [],
   "source": [
    "def least_square(points):\n",
    "    x_mat = np.mat(np.array([np.ones([len(points)]), points[:, 0]]).T)\n",
    "    y_mat = points[:, 1].reshape(len(points), 1)\n",
    "    xT_x=x_mat.T * x_mat\n",
    "    if np.linalg.det(xT_x) == 0.0:\n",
    "        print('this matrix is singular,cannot inverse')  # 奇异矩阵，不存在逆矩阵\n",
    "        return\n",
    "    coefficient_mat = xT_x.I * (x_mat.T * y_mat)\n",
    "    return coefficient_mat[0, 0], coefficient_mat[1, 0]"
   ]
  },
  {
   "cell_type": "code",
   "execution_count": 32,
   "metadata": {},
   "outputs": [
    {
     "name": "stdout",
     "output_type": "stream",
     "text": [
      "[[1286.73192455]\n",
      " [  15.71295424]]\n"
     ]
    }
   ],
   "source": [
    "n_data = np.array(data)\n",
    "w2,b2 = least_square(n_data)"
   ]
  },
  {
   "cell_type": "code",
   "execution_count": 33,
   "metadata": {},
   "outputs": [
    {
     "data": {
      "image/png": "[encoded data removed]",
      "text/plain": [
       "<Figure size 432x288 with 1 Axes>"
      ]
     },
     "metadata": {
      "needs_background": "light"
     },
     "output_type": "display_data"
    }
   ],
   "source": [
    "plot.scatter(x, y)\n",
    "plot.plot(x, w2*np.array(x)+b2, 'g-')\n",
    "plot.show()"
   ]
  },
  {
   "cell_type": "code",
   "execution_count": null,
   "metadata": {},
   "outputs": [],
   "source": []
  }
 ],
 "metadata": {
  "kernelspec": {
   "display_name": "Python 3",
   "language": "python",
   "name": "python3"
  },
  "language_info": {
   "codemirror_mode": {
    "name": "ipython",
    "version": 3
   },
   "file_extension": ".py",
   "mimetype": "text/x-python",
   "name": "python",
   "nbconvert_exporter": "python",
   "pygments_lexer": "ipython3",
   "version": "3.6.8"
  },
  "latex_envs": {
   "LaTeX_envs_menu_present": true,
   "autoclose": false,
   "autocomplete": true,
   "bibliofile": "biblio.bib",
   "cite_by": "apalike",
   "current_citInitial": 1,
   "eqLabelWithNumbers": true,
   "eqNumInitial": 1,
   "hotkeys": {
    "equation": "Ctrl-E",
    "itemize": "Ctrl-I"
   },
   "labels_anchors": false,
   "latex_user_defs": false,
   "report_style_numbering": false,
   "user_envs_cfg": false
  }
 },
 "nbformat": 4,
 "nbformat_minor": 2
}
