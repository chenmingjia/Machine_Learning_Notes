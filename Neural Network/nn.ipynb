{
 "cells": [
  {
   "cell_type": "markdown",
   "metadata": {},
   "source": [
    "https://blog.csdn.net/u012328159/article/details/80081962\n",
    "\n",
    "## 手写神经网络"
   ]
  },
  {
   "cell_type": "code",
   "execution_count": 15,
   "metadata": {},
   "outputs": [],
   "source": [
    "def initialize_parameters(layer_dims):\n",
    "    \"\"\"\n",
    "    :param layer_dims: list，每一层的单元数\n",
    "    \"\"\"\n",
    "    np.random.seed(3)\n",
    "    L = len(layer_dims)\n",
    "    params = {}\n",
    "    for l in range(1,L):\n",
    "        params[\"W\"+str(l)] = np.random.randn(layer_dims[l], layer_dims[l-1])*0.1\n",
    "        params[\"b\"+str(1)] = np.zeros((layer_dims[1],1))\n",
    "    return params"
   ]
  },
  {
   "cell_type": "code",
   "execution_count": 2,
   "metadata": {},
   "outputs": [],
   "source": [
    "def linear_forward(x,w,b):\n",
    "    z = np.dot(w,x) + b\n",
    "    return z"
   ]
  },
  {
   "cell_type": "code",
   "execution_count": 3,
   "metadata": {},
   "outputs": [],
   "source": [
    "def relu_forward(Z):\n",
    "    A = np.maximum(0,Z)\n",
    "    return A\n",
    "\n",
    "def sigmod(Z):\n",
    "    A = 1 / (1 + np.exp(-Z))\n",
    "    return A"
   ]
  },
  {
   "cell_type": "code",
   "execution_count": 4,
   "metadata": {},
   "outputs": [],
   "source": [
    "def forward_propagation(X, params):\n",
    "    \"\"\"\n",
    "    X -- input dataset, of shape (input size, number of examples)\n",
    "    parameters -- python dictionary containing your parameters \"W1\", \"b1\", \"W2\", \"b2\",...,\"WL\", \"bL\"\n",
    "                    W -- weight matrix of shape (size of current layer, size of previous layer)\n",
    "                    b -- bias vector of shape (size of current layer,1)\n",
    "    :return:\n",
    "    AL: the output of the last Layer(y_predict)\n",
    "    caches: list, every element is a tuple:(W,b,z,A_pre)\n",
    "    \"\"\"\n",
    "    L = len(params) // 2\n",
    "    A = X\n",
    "    caches = []\n",
    "    \n",
    "    # calculate from 1 to L-1 layer\n",
    "    for l in range(1,L):\n",
    "        W = params[\"W\"+str(l)]\n",
    "        b = params[\"b\"+str(l)]\n",
    "        z = linear_forward(A, W, b)\n",
    "        caches.append((A, W, b, z))\n",
    "        A = relu_forward(z)\n",
    "    \n",
    "    # calculate Lth layer\n",
    "    WL = params[\"W\"+str(L)]\n",
    "    bL = parmas[\"b\"+str(L)]\n",
    "    zL = linear_forward(A, WL, bL)\n",
    "    caches.append((A, W, b, z))\n",
    "    AL = sigmod(zL)\n",
    "    return AL,caches"
   ]
  },
  {
   "cell_type": "code",
   "execution_count": 5,
   "metadata": {},
   "outputs": [],
   "source": [
    "def compute_cost(AL, Y):\n",
    "    \"\"\"\n",
    "    :param AL: 最后一层的激活值，即预测值，shape:(1,number of examples)\n",
    "    :param Y:真实值,shape:(1, number of examples)\n",
    "    :return:\n",
    "    \"\"\"\n",
    "    m = Y.shape[1]\n",
    "    cost = 1./ m*np.nansum(\n",
    "        np.multiply(-np.log(AL),Y) +\n",
    "        np.multiply(-np.log(1 - AL), 1 - Y)\n",
    "    )\n",
    "    cost = np.squeeze(cost)\n",
    "    return cost"
   ]
  },
  {
   "cell_type": "code",
   "execution_count": 6,
   "metadata": {},
   "outputs": [],
   "source": [
    "def relu_backward(dA, Z):\n",
    "    \"\"\"\n",
    "    :param Z: the input of activation function\n",
    "    :param dA:\n",
    "    :return:\n",
    "    \"\"\"\n",
    "    dout = np.multiply(dA, np.int64(Z > 0)) # J对Z求导\n",
    "    return dout"
   ]
  },
  {
   "cell_type": "code",
   "execution_count": 8,
   "metadata": {},
   "outputs": [],
   "source": [
    "def linear_backward(dZ, cache):\n",
    "    \"\"\"\n",
    "    :param dZ: Upstream derivative, the shape (n^[l+1],m)\n",
    "    :param A: input of this layer\n",
    "    :return:\n",
    "    \"\"\"\n",
    "    A, W, b, z = cache\n",
    "    dW = np.dot(dZ, A.T)\n",
    "    db = np.sum(dZ, axis=1.,keepdims=True)\n",
    "    da = np.dot(W.T, dZ)\n",
    "    return da, dW, db"
   ]
  },
  {
   "cell_type": "code",
   "execution_count": 11,
   "metadata": {},
   "outputs": [],
   "source": [
    "def backward_propagation(AL, Y, caches):\n",
    "    \"\"\"\n",
    "    Implement the backward propagation presented in figure 2.\n",
    "    Arguments:\n",
    "    X -- input dataset, of shape (input size, number of examples)\n",
    "    Y -- true \"label\" vector (containing 0 if cat, 1 if non-cat)\n",
    "    caches -- caches output from forward_propagation(),(W,b,z,pre_A)\n",
    "\n",
    "    Returns:\n",
    "    gradients -- A dictionary with the gradients with respect to dW,db\n",
    "    \"\"\"\n",
    "    m = Y.shape[1]\n",
    "    L = len(caches) - 1\n",
    "    #calculate the Lth layer gradients\n",
    "    dz = 1. / m * (AL - Y)\n",
    "    da, dWL, dbL = linear_backward(dz, caches[L])\n",
    "    gradients = {\"dW\"+str(L+1):dWL, \"db\" + str(L+1):dbL}\n",
    "    \n",
    "    #calculate from L-1 to 1 layer gradients\n",
    "    for l in reversed(range(0, L)):\n",
    "        A, W, b ,z = caches[l]\n",
    "        #ReLu backward -> linear backward\n",
    "        #relu backward\n",
    "        dout = relu_backward(da, z)\n",
    "        da, dW, db = linear_backward(dout. caches[1])\n",
    "        \n",
    "        gradients[\"dW\" + str(l+1)] = dW\n",
    "        gradients[\"db\" + str(l+1)] = db\n",
    "    return gradients"
   ]
  },
  {
   "cell_type": "code",
   "execution_count": 12,
   "metadata": {},
   "outputs": [],
   "source": [
    "def update_params(params, grads, learning_rate):\n",
    "    L = len(params) // 2\n",
    "    for l in range(L):\n",
    "        params[\"W\" + str(l + 1)] = params[\"W\" + str(l + 1)] - learning_rate * grads[\"dW\" + str(l+1)]\n",
    "        params[\"b\" + str(l + 1)] = params[\"b\" + str(l + 1)] - learning_rate * grads[\"db\" + str(l+1)]\n",
    "    return params"
   ]
  },
  {
   "cell_type": "code",
   "execution_count": 13,
   "metadata": {},
   "outputs": [],
   "source": [
    "def L_layer_model(X, Y, layer_dims, learning_rate, num_iterations):\n",
    "    costs = []\n",
    "    params = initialize_parameters(layer_dims)\n",
    "    for i in range(0, num_iterations):\n",
    "        AL, caches = forward_propagation(X, params)\n",
    "        \n",
    "        cost = compute_cost(AL, Y)\n",
    "        if I % 1000 == 0:\n",
    "            print(\"Cost after iteration {}: {}\".format(i, cost))\n",
    "            costs.append(cost)\n",
    "        \n",
    "        grads = backward_propagation(AL, Y , caches)\n",
    "        \n",
    "        params = update_params(params, grads, learning_rate)\n",
    "    print('length of cost')\n",
    "    print(len(costs))\n",
    "    plt.clf()\n",
    "    plt.plot(costs)  # o-:圆形\n",
    "    plt.xlabel(\"iterations(thousand)\")  # 横坐标名字\n",
    "    plt.ylabel(\"cost\")  # 纵坐标名字\n",
    "    plt.show()\n",
    "    return parameters"
   ]
  },
  {
   "cell_type": "code",
   "execution_count": 14,
   "metadata": {},
   "outputs": [],
   "source": [
    "def predict(X_test,y_test,parameters):\n",
    "    \"\"\"\n",
    "    :param X:\n",
    "    :param y:\n",
    "    :param parameters:\n",
    "    :return:\n",
    "    \"\"\"\n",
    "    m = y_test.shape[1]\n",
    "    Y_prediction = np.zeros((1, m))\n",
    "    prob, caches = forward_propagation(X_test,parameters)\n",
    "    for i in range(prob.shape[1]):\n",
    "        # Convert probabilities A[0,i] to actual predictions p[0,i]\n",
    "        if prob[0, i] > 0.5:\n",
    "            Y_prediction[0, i] = 1\n",
    "        else:\n",
    "            Y_prediction[0, i] = 0\n",
    "    accuracy = 1- np.mean(np.abs(Y_prediction - y_test))\n",
    "    return accuracy"
   ]
  },
  {
   "cell_type": "code",
   "execution_count": null,
   "metadata": {},
   "outputs": [],
   "source": [
    "def DNN(X_train, y_train, X_test, y_test, layer_dims, learning_rate= 0.001, num_iterations=30000):\n",
    "    parameters = L_layer_model(X_train, y_train, layer_dims, learning_rate, num_iterations)\n",
    "    accuracy = predict(X_test,y_test,parameters)\n",
    "    return accuracy"
   ]
  }
 ],
 "metadata": {
  "kernelspec": {
   "display_name": "Python 3",
   "language": "python",
   "name": "python3"
  },
  "language_info": {
   "codemirror_mode": {
    "name": "ipython",
    "version": 3
   },
   "file_extension": ".py",
   "mimetype": "text/x-python",
   "name": "python",
   "nbconvert_exporter": "python",
   "pygments_lexer": "ipython3",
   "version": "3.6.8"
  },
  "latex_envs": {
   "LaTeX_envs_menu_present": true,
   "autoclose": false,
   "autocomplete": true,
   "bibliofile": "biblio.bib",
   "cite_by": "apalike",
   "current_citInitial": 1,
   "eqLabelWithNumbers": true,
   "eqNumInitial": 1,
   "hotkeys": {
    "equation": "Ctrl-E",
    "itemize": "Ctrl-I"
   },
   "labels_anchors": false,
   "latex_user_defs": false,
   "report_style_numbering": false,
   "user_envs_cfg": false
  }
 },
 "nbformat": 4,
 "nbformat_minor": 2
}
